{
 "cells": [
  {
   "cell_type": "code",
   "execution_count": 18,
   "metadata": {
    "collapsed": false
   },
   "outputs": [
    {
     "name": "stderr",
     "output_type": "stream",
     "text": [
      "/Users/briand/anaconda/envs/py35/lib/python3.5/site-packages/sklearn/ensemble/weight_boosting.py:29: DeprecationWarning: numpy.core.umath_tests is an internal NumPy module and should not be imported. It will be removed in a future NumPy release.\n",
      "  from numpy.core.umath_tests import inner1d\n"
     ]
    }
   ],
   "source": [
    "import pandas as pd\n",
    "import numpy as np\n",
    "import matplotlib.pyplot as plt\n",
    "%matplotlib inline\n",
    "from sklearn.linear_model import LogisticRegression\n",
    "\n",
    "\n",
    "import warnings\n",
    "warnings.filterwarnings('ignore')\n",
    "\n",
    "import pickle\n",
    "from sklearn.model_selection import ParameterGrid\n",
    "from sklearn.ensemble import RandomForestClassifier\n",
    "from sklearn.ensemble import GradientBoostingClassifier\n",
    "from sklearn.metrics import roc_auc_score"
   ]
  },
  {
   "cell_type": "code",
   "execution_count": 19,
   "metadata": {
    "collapsed": true
   },
   "outputs": [],
   "source": [
    "def cond_join(c):\n",
    "    if len(c[1])==0:\n",
    "        return c[0]\n",
    "    else:\n",
    "        return '{}_{}'.format(c[0],c[1])\n",
    "    \n",
    "def entropy(p):\n",
    "    return -1*(p*np.log(p) + (1-p)*np.log((1-p)))\n",
    "\n",
    "#base_rate_entropy = entropy(train_df[y].mean())\n",
    "\n",
    "def rel_row_entropy(row):\n",
    "    e1 = entropy(row.HasDetections['mean'])\n",
    "    return (base_rate_entropy - e1) / base_rate_entropy\n",
    "\n",
    "\n",
    "#feature transformation functions\n",
    "\n",
    "def clean_numeric(df, filler=None):\n",
    "    #Clean missing values in numeric data\n",
    "    df_numeric = df[x_numeric]\n",
    "\n",
    "    if filler is None:\n",
    "        medians = df_numeric.median()\n",
    "    else:\n",
    "        medians = filler\n",
    "    \n",
    "    df_numeric.fillna(medians, inplace=True)\n",
    "    return df_numeric, medians\n",
    "\n",
    "def get_booleans(df, y, x, rel_thresh=0.0001, n_thresh=500):\n",
    "    '''\n",
    "    Feature construction/selection:\n",
    "    - compute entropy in each category. \n",
    "    - If relative entropy is above a threshold, convert to binary\n",
    "    - check to make sure no more than K-1 features\n",
    "\n",
    "    '''\n",
    "    df_grp_x = df[[x,y]].groupby(x).agg([len, np.mean]).reset_index()\n",
    "    df_grp_x['relent'] = df_grp_x.apply(rel_row_entropy, axis=1)\n",
    "    df_grp_x.columns = [cond_join(c) for c in df_grp_x.columns.values]\n",
    "    df_grp_x_filt = df_grp_x[(df_grp_x.relent>rel_thresh) & (df_grp_x.HasDetections_len>n_thresh)]\n",
    "    n_cats = df_grp_x.shape[0]\n",
    "    chosen = list(df_grp_x_filt[x].values)\n",
    "    if n_cats == len(chosen):\n",
    "        return chosen[:-1]\n",
    "    else:\n",
    "        return chosen\n",
    "    \n",
    "def get_booleans_all_x(df):\n",
    "    lab = 'MachineIdentifier'\n",
    "    str_trans = {}\n",
    "\n",
    "    for x in x_str:\n",
    "        if x != lab:\n",
    "            bools = get_booleans(df, y, x)\n",
    "            loc_dict = {}\n",
    "            for i, b in enumerate(bools):\n",
    "                loc_dict[i] = b        \n",
    "            str_trans[x] = loc_dict\n",
    "    return str_trans\n",
    "\n",
    "def transform_strings(df, str_trans):\n",
    "    #Now create the string matrix\n",
    "    df_str = pd.DataFrame(index=df.index)\n",
    "    \n",
    "    \n",
    "    for x in str_trans:\n",
    "        if len(x) > 0:\n",
    "            loc_dict = str_trans[x]\n",
    "            for i in range(len(loc_dict)):\n",
    "                df_str[x+'_{}'.format(i)] = 1*(df[x]==loc_dict[i])\n",
    "    return df_str\n",
    "        \n",
    "#Training \n",
    "def build_train_data(train_file):\n",
    "    train_df = pd.read_csv(train_dev)\n",
    "    train_df.set_index('MachineIdentifier', inplace=True)\n",
    "    str_trans_train = get_booleans_all_x(train_df)\n",
    "    train_df_str = transform_strings(train_df, str_trans_train)\n",
    "    train_df_num, fillna_train = clean_numeric(train_df)\n",
    "    train_all_x = train_df_num.merge(train_df_str, how='inner', left_index=True, right_index=True)\n",
    "    train_y = train_df[y]\n",
    "    return train_all_x, train_y, str_trans_train, fillna_train\n",
    "    \n",
    "#Test\n",
    "def build_test_data(test_file, fillna_train, str_trans_train):\n",
    "    test_df = pd.read_csv(test_file)\n",
    "    test_df.set_index('MachineIdentifier', inplace=True)\n",
    "    test_df_str = transform_strings(test_df, str_trans_train)\n",
    "    test_df_num, fillna_train = clean_numeric(test_df, fillna_train)\n",
    "    test_all_x = test_df_num.merge(test_df_str, how='inner', left_index=True, right_index=True)\n",
    "    return test_all_x\n",
    "\n",
    "class BestModelPackage(object):\n",
    "    \n",
    "    def __init__(self, model, features, fillna_values, str_transforms):\n",
    "        self.model = model\n",
    "        self.features = features\n",
    "        self.fillna_values = fillna_values\n",
    "        self.str_transforms = str_transforms"
   ]
  },
  {
   "cell_type": "code",
   "execution_count": 88,
   "metadata": {
    "collapsed": false
   },
   "outputs": [
    {
     "data": {
      "text/plain": [
       "((50000, 168), (50000, 168), (100000, 168), (80000, 168), (20000, 168))"
      ]
     },
     "execution_count": 88,
     "metadata": {},
     "output_type": "execute_result"
    }
   ],
   "source": [
    "datadir = '~/data/'\n",
    "\n",
    "train_dev = datadir + 'train_rand.csv'\n",
    "train = datadir + 'train.csv'\n",
    "train_df = pd.read_csv(train_dev)\n",
    "train_df.set_index('MachineIdentifier', inplace=True)\n",
    "y = 'HasDetections'\n",
    "\n",
    "#Organize columns into groups by type\n",
    "x_numeric = list(train_df.describe().columns.values)\n",
    "x_ident = [x for x in x_numeric if 'Identifier' in x] #Some numeric columns actually IDs\n",
    "x_numeric = list(set(x_numeric) - set(x_ident)) #Keep only true numerics\n",
    "x_str = list(set(train_df.columns.values) - set(x_numeric))\n",
    "x_numeric.remove(y)\n",
    "\n",
    "\n",
    "modfile = '/Users/briand/data/MSFT_Best_Model_ALL2.pickle'\n",
    "datadir = '~/data/'\n",
    "\n",
    "\n",
    "with open(modfile, 'rb') as r:\n",
    "    best_mod = pickle.load(r)\n",
    "\n",
    "test_all_x = build_test_data(datadir + 'test_rand.csv', \n",
    "                             best_mod.fillna_values, \n",
    "                             best_mod.str_transforms)[best_mod.features].sample(n=50000)\n",
    "\n",
    "test_all_x['y'] = np.ones(test_all_x.shape[0])\n",
    "\n",
    "train_all_x = build_test_data(datadir + 'train_rand.csv', \n",
    "                             best_mod.fillna_values, \n",
    "                             best_mod.str_transforms)[best_mod.features].sample(n=50000)\n",
    "\n",
    "train_all_x['y'] = np.zeros(train_all_x.shape[0])\n",
    "\n",
    "exp_df = pd.concat([train_all_x, test_all_x])\n",
    "\n",
    "from sklearn.model_selection import train_test_split\n",
    "\n",
    "train, test = train_test_split(exp_df, test_size=0.2)\n",
    "\n",
    "test_all_x.shape, train_all_x.shape, exp_df.shape, train.shape, test.shape"
   ]
  },
  {
   "cell_type": "code",
   "execution_count": 89,
   "metadata": {
    "collapsed": false
   },
   "outputs": [],
   "source": [
    "fset=list(train.drop('y', axis=1).columns.values)\n",
    "fset.remove('Census_InternalBatteryNumberOfCharges')\n",
    "fset.remove('Census_SystemVolumeTotalCapacity')\n",
    "\n",
    "\n",
    "#rf = RandomForestClassifier(n_estimators=50)\n",
    "#rf.fit(train.drop('y', axis=1), train['y'])\n",
    "#preds = rf.predict_proba(test.drop('y', axis=1))[:,1]\n",
    "#auc_rf = roc_auc_score(test['y'], preds)"
   ]
  },
  {
   "cell_type": "code",
   "execution_count": 90,
   "metadata": {
    "collapsed": false
   },
   "outputs": [
    {
     "data": {
      "text/plain": [
       "0.9363882254577439"
      ]
     },
     "execution_count": 90,
     "metadata": {},
     "output_type": "execute_result"
    }
   ],
   "source": [
    "lr = None\n",
    "lr = LogisticRegression(C=1000)\n",
    "lr.fit(train[fset], train['y'])\n",
    "preds = lr.predict_proba(test[fset])[:,1]\n",
    "auc_lr = roc_auc_score(test['y'], preds)\n",
    "\n",
    "auc_lr"
   ]
  },
  {
   "cell_type": "code",
   "execution_count": null,
   "metadata": {
    "collapsed": false
   },
   "outputs": [],
   "source": []
  },
  {
   "cell_type": "code",
   "execution_count": 92,
   "metadata": {
    "collapsed": false
   },
   "outputs": [
    {
     "data": {
      "text/plain": [
       "(array([4114., 2388.,  700.,  432.,  473.,  659.,  700.,  353.,   59.,\n",
       "          71.]),\n",
       " array([0.00320068, 0.10205306, 0.20090544, 0.29975782, 0.39861019,\n",
       "        0.49746257, 0.59631495, 0.69516732, 0.7940197 , 0.89287208,\n",
       "        0.99172445]),\n",
       " <a list of 10 Patch objects>)"
      ]
     },
     "execution_count": 92,
     "metadata": {},
     "output_type": "execute_result"
    },
    {
     "data": {
      "image/png": "[encoded data removed]",
      "text/plain": [
       "<Figure size 600x400 with 1 Axes>"
      ]
     },
     "metadata": {},
     "output_type": "display_data"
    }
   ],
   "source": [
    "plt.hist(preds[(test['y']==0)])"
   ]
  },
  {
   "cell_type": "markdown",
   "metadata": {},
   "source": [
    "Now score training set on P(Test). \n",
    "Keep only those where P(Test) > delta (0.2)"
   ]
  },
  {
   "cell_type": "code",
   "execution_count": 99,
   "metadata": {
    "collapsed": false
   },
   "outputs": [
    {
     "data": {
      "text/plain": [
       "(8921464, 167)"
      ]
     },
     "execution_count": 99,
     "metadata": {},
     "output_type": "execute_result"
    }
   ],
   "source": [
    "all_x = build_test_data(datadir + 'train.csv', \n",
    "                             best_mod.fillna_values, \n",
    "                             best_mod.str_transforms)[best_mod.features]\n",
    "\n",
    "all_x.shape"
   ]
  },
  {
   "cell_type": "code",
   "execution_count": null,
   "metadata": {
    "collapsed": true
   },
   "outputs": [],
   "source": []
  },
  {
   "cell_type": "code",
   "execution_count": 104,
   "metadata": {
    "collapsed": false
   },
   "outputs": [
    {
     "data": {
      "text/plain": [
       "(2013008, 168)"
      ]
     },
     "execution_count": 104,
     "metadata": {},
     "output_type": "execute_result"
    }
   ],
   "source": [
    "all_x['prob'] = lr.predict_proba(all_x[fset])[:,1]\n",
    "all_x = all_x[(all_x.prob>0.4)]\n",
    "all_x.shape"
   ]
  },
  {
   "cell_type": "code",
   "execution_count": 105,
   "metadata": {
    "collapsed": true
   },
   "outputs": [],
   "source": [
    "all_x['prob'].to_csv(datadir + 'train_bias_weights.csv', sep=',', \n",
    "                    header=True, index=True, index_label='MachineIdentifier')"
   ]
  },
  {
   "cell_type": "code",
   "execution_count": 107,
   "metadata": {
    "collapsed": false
   },
   "outputs": [],
   "source": [
    "all_x = None"
   ]
  },
  {
   "cell_type": "code",
   "execution_count": 108,
   "metadata": {
    "collapsed": true
   },
   "outputs": [],
   "source": [
    "test_all_x = None\n",
    "train_all_x = None \n",
    "exp_df = None \n",
    "train = None \n",
    "test = None"
   ]
  },
  {
   "cell_type": "code",
   "execution_count": null,
   "metadata": {
    "collapsed": true
   },
   "outputs": [],
   "source": [
    "def rel_row_entropy(row, base_rate_entropy):\n",
    "    e1 = entropy(row.HasDetections['mean'])\n",
    "    return (base_rate_entropy - e1) / base_rate_entropy\n",
    "\n",
    "\n",
    "\n"
   ]
  }
 ],
 "metadata": {
  "kernelspec": {
   "display_name": "Python [py35]",
   "language": "python",
   "name": "Python [py35]"
  },
  "language_info": {
   "codemirror_mode": {
    "name": "ipython",
    "version": 3
   },
   "file_extension": ".py",
   "mimetype": "text/x-python",
   "name": "python",
   "nbconvert_exporter": "python",
   "pygments_lexer": "ipython3",
   "version": "3.5.2"
  }
 },
 "nbformat": 4,
 "nbformat_minor": 0
}
