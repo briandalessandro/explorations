{
 "cells": [
  {
   "cell_type": "markdown",
   "metadata": {},
   "source": [
    "This notebook is a playspace for practicing and learning Bayesian estimation using MCMC methods. We'll implement everything from scratch and use a simulated univariate bernoulli event as the test case.\n",
    "\n",
    "Steps:\n",
    "- Create a data generating mechanism that represents the univariate bernoulli event\n",
    "- Write processes for running MCMC with Metropolis-Hastings (done) and Gibbs Sampling (not done)\n",
    "- Estimate the parameters of the LogReg using MCMC\n",
    "- Validation and further exploration\n",
    "\n",
    "Some good references:\n",
    "- [Columbia tutorial](http://www.columbia.edu/~mh2078/MachineLearningORFE/MCMC_Bayes.pdf)\n",
    "- [Some dude's good Medium post](https://towardsdatascience.com/from-scratch-bayesian-inference-markov-chain-monte-carlo-and-metropolis-hastings-in-python-ef21a29e25a)"
   ]
  },
  {
   "cell_type": "code",
   "execution_count": 1,
   "metadata": {
    "collapsed": true
   },
   "outputs": [],
   "source": [
    "import numpy as np\n",
    "import pandas as pd\n",
    "import matplotlib.pyplot as plt\n",
    "%matplotlib inline"
   ]
  },
  {
   "cell_type": "markdown",
   "metadata": {},
   "source": [
    "### Create a Data Generating Mechanism"
   ]
  },
  {
   "cell_type": "code",
   "execution_count": 140,
   "metadata": {
    "collapsed": true
   },
   "outputs": [],
   "source": [
    "def inv_logit(XB):\n",
    "    return 1 / (1 + np.exp(-1*XB))\n",
    "\n",
    "def gen_logistic_dataframe(alpha, betas, N):\n",
    "    '''\n",
    "    create a dataframe with N examples that represents a bernoulli process \n",
    "    '''\n",
    "    K = len(betas)\n",
    "    X = np.random.normal(size = [N,K])\n",
    "    XB = X.dot(betas) + alpha\n",
    "    Y = 1*(inv_logit(XB) > np.random.uniform(size=N))\n",
    "    df = pd.DataFrame(X, columns = ['X_{}'.format(i+1) for i in range(K)])\n",
    "    df['Y'] = Y\n",
    "    return df"
   ]
  },
  {
   "cell_type": "markdown",
   "metadata": {},
   "source": [
    "### Build Functions for MCMC Sampling"
   ]
  },
  {
   "cell_type": "markdown",
   "metadata": {},
   "source": [
    "To do MCMC, we need a few things. \n",
    "\n",
    "Metropolis-Hastings\n",
    "- Log-Likelihood function $p(D|\\alpha, \\beta) = \\Sigma y*log(p)+(1-y)*log(1-p)$ for computing the log-likelihood of the data\n",
    "- Prior function for $p(\\beta)$. For this we may want multiple candidate priors.\n",
    "- A proposal function $Q(\\theta^{t+1}|\\theta^t)$ for generating candidates in each MCMC step\n",
    "- An acceptance probability formula $min\\{(p'(y)/p'(x)*(Q(x|y)/Q(y|x), 1\\}$, where p'(x)=likelihood*prior\n",
    "- An overall all wrapper for the MCMC-MH algorithm"
   ]
  },
  {
   "cell_type": "markdown",
   "metadata": {},
   "source": [
    "#### Generic MCMC Algos"
   ]
  },
  {
   "cell_type": "code",
   "execution_count": 600,
   "metadata": {
    "collapsed": false
   },
   "outputs": [],
   "source": [
    "class metropolis_hastings(object):\n",
    "    '''\n",
    "    '''\n",
    "    \n",
    "    def __init__(self, prior, log_likelihood, proposal, theta_init):\n",
    "        self.prior = prior\n",
    "        self.log_likelihood = log_likelihood\n",
    "        self.proposal = proposal\n",
    "        self.theta_init = theta_init\n",
    "        self.accepted = []\n",
    "        self.rejected = []\n",
    "    \n",
    "    def acceptance_rate(self, p_old_log, p_new_log, q_old_log, \n",
    "                        q_new_log, prior_old, prior_new):\n",
    "        if (p_new_log + prior_new + q_old_log) > (p_old_log + prior_old + q_new_log):\n",
    "            return 1.0\n",
    "        else:\n",
    "            log_ratio = (p_new_log + prior_new + q_old_log) - (p_old_log + prior_old + q_new_log) \n",
    "            return np.exp(log_ratio)\n",
    "        \n",
    "    def gen_n_samples(self, n, evidence):\n",
    "        \n",
    "        if len(self.accepted)==0:\n",
    "            theta = self.theta_init\n",
    "        else:\n",
    "            theta = self.accepted[-1]\n",
    "            \n",
    "        i = 0\n",
    "        j=0\n",
    "        while i<n:\n",
    "            #Generate a proposal\n",
    "            theta_new = self.proposal.gen_next(theta)\n",
    "            p_old_log = self.log_likelihood(evidence, theta)\n",
    "            p_new_log = self.log_likelihood(evidence, theta_new)\n",
    "            prior_old = self.prior(theta)\n",
    "            prior_new = self.prior(theta_new)\n",
    "            q_old_log = self.proposal.gen_log_p(theta, theta_new)\n",
    "            q_new_log = self.proposal.gen_log_p(theta_new, theta)\n",
    "            \n",
    "            alpha = self.acceptance_rate(p_old_log, p_new_log, q_old_log, \n",
    "                                    q_new_log, prior_old, prior_new)\n",
    "            \n",
    "            ru = np.random.uniform()\n",
    "            \n",
    "            if alpha > ru:\n",
    "                self.accepted.append(theta_new)\n",
    "                theta = theta_new\n",
    "                i+=1\n",
    "            else:\n",
    "                self.rejected.append(theta_new)\n",
    "              \n",
    "            j+=1\n",
    "            if j>10*n:\n",
    "                print('Failed to converge')\n",
    "                break"
   ]
  },
  {
   "cell_type": "code",
   "execution_count": 256,
   "metadata": {
    "collapsed": false
   },
   "outputs": [],
   "source": [
    "#These are all of the ingredients to the algorithm\n",
    "\n",
    "from scipy.stats import norm\n",
    "\n",
    "class proposal_norm_ind(object):\n",
    "    '''\n",
    "    Can work for any arbitrary length param vector\n",
    "    ''' \n",
    "    \n",
    "    def __init__(self, sig):\n",
    "        self.sig = sig\n",
    "    \n",
    "    def gen_next(self, theta):\n",
    "        d = len(theta)\n",
    "        return np.random.normal(theta, self.sig*np.ones(d))\n",
    "    \n",
    "    def gen_log_p(self, point, mu):\n",
    "        d = len(mu)\n",
    "        return np.log(norm.pdf(point, mu, self.sig*np.ones(d))).sum()\n",
    "\n",
    "class log_uniform_ind(object):\n",
    "    \n",
    "    def __init__(self, a, b):\n",
    "        self.a = a\n",
    "        self.b = b\n",
    "\n",
    "    def check_uni(self, x):    \n",
    "        if (self.a <= x <= self.b):\n",
    "            return (self.b-self.a)**-1\n",
    "        else:\n",
    "            return 0\n",
    "        \n",
    "    def gen_log_p(self, theta):\n",
    "        log_prior = 0\n",
    "        for th in theta:\n",
    "            log_prior += np.log(self.check_uni(th))\n",
    "        return log_prior\n",
    "    \n",
    "class log_normal_ind(object):\n",
    "    '''\n",
    "    mu, sigma and theta must be same dimension or it throws an error\n",
    "    assumes fully independent samples\n",
    "    '''\n",
    "    \n",
    "    def __init__(self, mu, sig):\n",
    "        self.mu = mu\n",
    "        self.sig = sig\n",
    "        \n",
    "    def gen_log_p(self, theta):\n",
    "        log_prior = np.log(norm.pdf(theta, self.mu, self.sig)).sum()\n",
    "        return log_prior\n",
    "    \n",
    "    \n",
    "def log_likelihood_log_reg(df, theta):\n",
    "    alpha = theta[0]\n",
    "    betas = theta[1:]\n",
    "    ys = df['Y']\n",
    "    XB = df.drop('Y', axis=1).dot(np.array(betas)) + alpha\n",
    "    ps = 1 / (1 + np.exp(-1*XB))\n",
    "    return (ys*np.log(ps) + (1-ys)*np.log((1-ps))).sum()\n"
   ]
  },
  {
   "cell_type": "markdown",
   "metadata": {},
   "source": [
    "### Now let's test things\n",
    "\n",
    "First we'll look at a uniform prior over a reasonable interval. This should match the MLE estimates, which we can verify."
   ]
  },
  {
   "cell_type": "code",
   "execution_count": 555,
   "metadata": {
    "collapsed": false
   },
   "outputs": [],
   "source": [
    "#Metropolis-Hastings\n",
    "\n",
    "#Generate data\n",
    "truth = [-1, 1]\n",
    "df = gen_logistic_dataframe(truth[0], truth[1:], 1000)"
   ]
  },
  {
   "cell_type": "code",
   "execution_count": 556,
   "metadata": {
    "collapsed": false
   },
   "outputs": [],
   "source": [
    "#Initialize everything\n",
    "alpha_init = np.log(df.Y.mean() / (1-df.Y.mean()))\n",
    "theta_init = [alpha_init] + list(np.zeros(df.shape[1]-1))\n",
    "\n",
    "prior = log_uniform_ind(-5, 5).gen_log_p\n",
    "log_likelihood = log_likelihood_log_reg\n",
    "proposal = proposal_norm_ind(0.2)"
   ]
  },
  {
   "cell_type": "code",
   "execution_count": 557,
   "metadata": {
    "collapsed": false
   },
   "outputs": [],
   "source": [
    "mh1 = metropolis_hastings(prior, log_likelihood, proposal, theta_init)"
   ]
  },
  {
   "cell_type": "code",
   "execution_count": 558,
   "metadata": {
    "collapsed": false
   },
   "outputs": [],
   "source": [
    "#Generate some samples\n",
    "mh1.gen_n_samples(1000, df)"
   ]
  },
  {
   "cell_type": "code",
   "execution_count": 559,
   "metadata": {
    "collapsed": false
   },
   "outputs": [
    {
     "name": "stdout",
     "output_type": "stream",
     "text": [
      "Optimization terminated successfully.\n",
      "         Current function value: 0.553003\n",
      "         Iterations 6\n"
     ]
    },
    {
     "data": {
      "text/html": [
       "<table class=\"simpletable\">\n",
       "<caption>Logit Regression Results</caption>\n",
       "<tr>\n",
       "  <th>Dep. Variable:</th>         <td>Y</td>        <th>  No. Observations:  </th>  <td>  1000</td>  \n",
       "</tr>\n",
       "<tr>\n",
       "  <th>Model:</th>               <td>Logit</td>      <th>  Df Residuals:      </th>  <td>   998</td>  \n",
       "</tr>\n",
       "<tr>\n",
       "  <th>Method:</th>               <td>MLE</td>       <th>  Df Model:          </th>  <td>     1</td>  \n",
       "</tr>\n",
       "<tr>\n",
       "  <th>Date:</th>          <td>Fri, 11 Jan 2019</td> <th>  Pseudo R-squ.:     </th>  <td>0.1220</td>  \n",
       "</tr>\n",
       "<tr>\n",
       "  <th>Time:</th>              <td>13:04:51</td>     <th>  Log-Likelihood:    </th> <td> -553.00</td> \n",
       "</tr>\n",
       "<tr>\n",
       "  <th>converged:</th>           <td>True</td>       <th>  LL-Null:           </th> <td> -629.85</td> \n",
       "</tr>\n",
       "<tr>\n",
       "  <th> </th>                      <td> </td>        <th>  LLR p-value:       </th> <td>2.707e-35</td>\n",
       "</tr>\n",
       "</table>\n",
       "<table class=\"simpletable\">\n",
       "<tr>\n",
       "    <td></td>       <th>coef</th>     <th>std err</th>      <th>z</th>      <th>P>|z|</th>  <th>[0.025</th>    <th>0.975]</th>  \n",
       "</tr>\n",
       "<tr>\n",
       "  <th>const</th> <td>   -0.8700</td> <td>    0.076</td> <td>  -11.386</td> <td> 0.000</td> <td>   -1.020</td> <td>   -0.720</td>\n",
       "</tr>\n",
       "<tr>\n",
       "  <th>X_1</th>   <td>    0.9398</td> <td>    0.085</td> <td>   11.116</td> <td> 0.000</td> <td>    0.774</td> <td>    1.105</td>\n",
       "</tr>\n",
       "</table>"
      ],
      "text/plain": [
       "<class 'statsmodels.iolib.summary.Summary'>\n",
       "\"\"\"\n",
       "                           Logit Regression Results                           \n",
       "==============================================================================\n",
       "Dep. Variable:                      Y   No. Observations:                 1000\n",
       "Model:                          Logit   Df Residuals:                      998\n",
       "Method:                           MLE   Df Model:                            1\n",
       "Date:                Fri, 11 Jan 2019   Pseudo R-squ.:                  0.1220\n",
       "Time:                        13:04:51   Log-Likelihood:                -553.00\n",
       "converged:                       True   LL-Null:                       -629.85\n",
       "                                        LLR p-value:                 2.707e-35\n",
       "==============================================================================\n",
       "                 coef    std err          z      P>|z|      [0.025      0.975]\n",
       "------------------------------------------------------------------------------\n",
       "const         -0.8700      0.076    -11.386      0.000      -1.020      -0.720\n",
       "X_1            0.9398      0.085     11.116      0.000       0.774       1.105\n",
       "==============================================================================\n",
       "\"\"\""
      ]
     },
     "execution_count": 559,
     "metadata": {},
     "output_type": "execute_result"
    }
   ],
   "source": [
    "#Generate the MLE estimate as validation\n",
    "import statsmodels.api as sm\n",
    "logit_sm = sm.Logit(df['Y'], sm.add_constant(df.drop('Y', 1)))\n",
    "lr1 = logit_sm.fit()\n",
    "lr1.summary()"
   ]
  },
  {
   "cell_type": "code",
   "execution_count": 560,
   "metadata": {
    "collapsed": false
   },
   "outputs": [
    {
     "data": {
      "image/png": "[encoded data removed]",
      "text/plain": [
       "<Figure size 1200x500 with 2 Axes>"
      ]
     },
     "metadata": {},
     "output_type": "display_data"
    }
   ],
   "source": [
    "#Plot posteriors for alpha and beta along with MLE estimates\n",
    "\n",
    "def make_some_plots(mh_i, lr_i):\n",
    "    last = 750\n",
    "    fig = plt.figure(figsize = (12,5))\n",
    "    fig.add_subplot(121)\n",
    "    h = plt.hist(np.array(mh_i.accepted)[-last:,0], density=True)\n",
    "    h = plt.hist(np.random.normal(lr_i.params[0], lr_i.bse[0], 10000), bins = 50, \n",
    "             density=True, histtype='step')\n",
    "\n",
    "    fig.add_subplot(122)\n",
    "    h = plt.hist(np.array(mh_i.accepted)[-last:,1], density=True)\n",
    "    h = plt.hist(np.random.normal(lr_i.params[1], lr_i.bse[1], 10000), bins = 50, \n",
    "             density=True, histtype='step')\n",
    "    \n",
    "make_some_plots(mh1, lr1)"
   ]
  },
  {
   "cell_type": "code",
   "execution_count": 561,
   "metadata": {
    "collapsed": false
   },
   "outputs": [
    {
     "data": {
      "text/plain": [
       "(-0.872179313402903, 0.9386631770948084)"
      ]
     },
     "execution_count": 561,
     "metadata": {},
     "output_type": "execute_result"
    }
   ],
   "source": [
    "np.median(np.array(mh1.accepted)[-last:,0]), np.median(np.array(mh1.accepted)[-last:,1])"
   ]
  },
  {
   "cell_type": "markdown",
   "metadata": {},
   "source": [
    "Now let's look at a Gaussian prior. We'll center the intercept around the log of the base rate odds ratio."
   ]
  },
  {
   "cell_type": "code",
   "execution_count": 568,
   "metadata": {
    "collapsed": false
   },
   "outputs": [],
   "source": [
    "#Initialize everything\n",
    "prior_norm = log_normal_ind([alpha_init, 0], [2,2]).gen_log_p\n",
    "mh_norm2 = metropolis_hastings(prior_norm, log_likelihood, proposal, theta_init)\n",
    "mh_norm2.gen_n_samples(1000, df)"
   ]
  },
  {
   "cell_type": "code",
   "execution_count": 569,
   "metadata": {
    "collapsed": false
   },
   "outputs": [
    {
     "data": {
      "image/png": "[encoded data removed]",
      "text/plain": [
       "<Figure size 1200x500 with 2 Axes>"
      ]
     },
     "metadata": {},
     "output_type": "display_data"
    }
   ],
   "source": [
    "#Plot posteriors for alpha and beta along with MLE estimates\n",
    "make_some_plots(mh_norm2, lr1)"
   ]
  },
  {
   "cell_type": "code",
   "execution_count": 567,
   "metadata": {
    "collapsed": false
   },
   "outputs": [
    {
     "data": {
      "text/plain": [
       "(-0.8285112107835384, 0.7978717734941596)"
      ]
     },
     "execution_count": 567,
     "metadata": {},
     "output_type": "execute_result"
    }
   ],
   "source": [
    "np.median(np.array(mh_norm2.accepted)[-last:,0]), np.median(np.array(mh_norm2.accepted)[-last:,1])"
   ]
  },
  {
   "cell_type": "markdown",
   "metadata": {},
   "source": [
    "It looks like MLE and MCMC are giving close to the same results. This is likely because our sample sizes are sufficient for good learning. Let's see how much the prior variance impacts the difference between MCMC and MLE."
   ]
  },
  {
   "cell_type": "code",
   "execution_count": 601,
   "metadata": {
    "collapsed": false
   },
   "outputs": [
    {
     "name": "stdout",
     "output_type": "stream",
     "text": [
      "Optimization terminated successfully.\n",
      "         Current function value: 0.553003\n",
      "         Iterations 6\n",
      "starting 0.005\n"
     ]
    },
    {
     "name": "stderr",
     "output_type": "stream",
     "text": [
      "/Users/briand/anaconda/envs/py35/lib/python3.5/site-packages/ipykernel/__main__.py:50: RuntimeWarning: divide by zero encountered in log\n",
      "/Users/briand/anaconda/envs/py35/lib/python3.5/site-packages/ipykernel/__main__.py:18: RuntimeWarning: invalid value encountered in double_scalars\n"
     ]
    },
    {
     "name": "stdout",
     "output_type": "stream",
     "text": [
      "Failed to converge\n",
      "starting 0.01\n",
      "Failed to converge\n",
      "starting 0.05\n",
      "Failed to converge\n",
      "starting 0.1\n",
      "starting 0.5\n",
      "starting 1\n",
      "starting 2\n",
      "starting 4\n",
      "starting 10\n"
     ]
    }
   ],
   "source": [
    "alpha_init = np.log(df.Y.mean() / (1-df.Y.mean()))\n",
    "theta_init = [alpha_init] + list(np.zeros(df.shape[1]-1))\n",
    "logit_sm = sm.Logit(df['Y'], sm.add_constant(df.drop('Y', 1)))\n",
    "lr_i = logit_sm.fit()\n",
    "\n",
    "stds = [0.005, 0.01, 0.05, 0.1, 0.5, 1, 2, 4, 10]\n",
    "\n",
    "mh = []\n",
    "for s in stds:\n",
    "    print('starting {}'.format(s))\n",
    "    prior_norm = log_normal_ind([0, 0], [s,s]).gen_log_p\n",
    "    mh_sm = metropolis_hastings(prior_norm, log_likelihood, proposal, theta_init)\n",
    "    mh_sm.gen_n_samples(1000, df)\n",
    "    mh.append(mh_sm)"
   ]
  },
  {
   "cell_type": "code",
   "execution_count": 605,
   "metadata": {
    "collapsed": false
   },
   "outputs": [
    {
     "data": {
      "image/png": "[encoded data removed]",
      "text/plain": [
       "<Figure size 1200x1200 with 9 Axes>"
      ]
     },
     "metadata": {},
     "output_type": "display_data"
    }
   ],
   "source": [
    "plt.figure(figsize=(12,12))\n",
    "for j, s in enumerate(stds):\n",
    "    mh_sm = mh[j]\n",
    "    ax=plt.subplot(3,3,j+1)\n",
    "    plt.title('sig={}'.format(s))\n",
    "    h = plt.hist(np.array(mh_sm.accepted)[:,1], density=True)\n",
    "    h = plt.hist(np.random.normal(lr_i.params[1], lr_i.bse[1], 10000), bins = 50, \n",
    "             density=True, histtype='step')"
   ]
  },
  {
   "cell_type": "markdown",
   "metadata": {},
   "source": [
    "Let's try everything on the beta-binomial distribution to do one more test."
   ]
  },
  {
   "cell_type": "code",
   "execution_count": 462,
   "metadata": {
    "collapsed": true
   },
   "outputs": [],
   "source": [
    "from scipy.stats import beta\n",
    "from scipy.special import binom\n",
    "\n",
    "class log_beta(object):\n",
    "    def __init__(self, alpha, beta):\n",
    "        self.alpha = alpha\n",
    "        self.beta = beta\n",
    "        \n",
    "    def gen_log_p(self, theta):\n",
    "        log_prior = np.log(beta.pdf(theta, self.alpha, self.beta)).sum()\n",
    "        return log_prior\n",
    "    \n",
    "def log_likelihood_beta(df, theta):\n",
    "    p = theta[0]\n",
    "    n = df.shape[0]\n",
    "    x = df['Y'].sum()\n",
    "    return x*np.log(p)+(n-x)*np.log(1-p)+np.log(binom(n,x))\n",
    "\n",
    "#Gen data\n",
    "def gen_binom_df(n, p):\n",
    "    return pd.DataFrame({'Y':1*(np.random.uniform(size=n)<p)})\n"
   ]
  },
  {
   "cell_type": "code",
   "execution_count": 502,
   "metadata": {
    "collapsed": false
   },
   "outputs": [
    {
     "name": "stderr",
     "output_type": "stream",
     "text": [
      "/Users/briand/anaconda/envs/py35/lib/python3.5/site-packages/ipykernel/__main__.py:17: RuntimeWarning: invalid value encountered in log\n",
      "/Users/briand/anaconda/envs/py35/lib/python3.5/site-packages/ipykernel/__main__.py:10: RuntimeWarning: divide by zero encountered in log\n"
     ]
    }
   ],
   "source": [
    "d1 = gen_binom_df(100,0.25)\n",
    "prior_beta = log_beta(1,1).gen_log_p\n",
    "mh_b = metropolis_hastings(prior_beta, log_likelihood_beta, proposal, [d1['Y'].mean()])\n",
    "mh_b.gen_n_samples(2000, d1)\n"
   ]
  },
  {
   "cell_type": "code",
   "execution_count": 504,
   "metadata": {
    "collapsed": false
   },
   "outputs": [
    {
     "data": {
      "text/plain": [
       "<matplotlib.legend.Legend at 0x11fc4f358>"
      ]
     },
     "execution_count": 504,
     "metadata": {},
     "output_type": "execute_result"
    },
    {
     "data": {
      "image/png": "[encoded data removed]",
      "text/plain": [
       "<Figure size 600x400 with 1 Axes>"
      ]
     },
     "metadata": {},
     "output_type": "display_data"
    }
   ],
   "source": [
    "lin = np.linspace(0,1,100)\n",
    "\n",
    "n = d1.shape[0]\n",
    "x = d1['Y'].sum()\n",
    "last = 1000\n",
    "h = plt.hist(np.array(mh_b.accepted)[-last:], density=True, label='Posterior MCMC', bins=20)\n",
    "plt.plot(lin, beta.pdf(lin,1,1), label='Prior')\n",
    "plt.plot(lin, beta.pdf(lin,1+x,1+n-x), label='Posterior Analytic')\n",
    "plt.legend()"
   ]
  },
  {
   "cell_type": "markdown",
   "metadata": {},
   "source": [
    "Ok. So it seems to be working."
   ]
  },
  {
   "cell_type": "code",
   "execution_count": null,
   "metadata": {
    "collapsed": true
   },
   "outputs": [],
   "source": []
  }
 ],
 "metadata": {
  "anaconda-cloud": {},
  "kernelspec": {
   "display_name": "Python [py35]",
   "language": "python",
   "name": "Python [py35]"
  },
  "language_info": {
   "codemirror_mode": {
    "name": "ipython",
    "version": 3
   },
   "file_extension": ".py",
   "mimetype": "text/x-python",
   "name": "python",
   "nbconvert_exporter": "python",
   "pygments_lexer": "ipython3",
   "version": "3.5.2"
  }
 },
 "nbformat": 4,
 "nbformat_minor": 0
}
