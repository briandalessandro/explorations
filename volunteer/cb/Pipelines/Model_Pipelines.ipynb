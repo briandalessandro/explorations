{
 "cells": [
  {
   "cell_type": "code",
   "execution_count": 6,
   "metadata": {
    "collapsed": true
   },
   "outputs": [],
   "source": [
    "import pandas as pd\n",
    "import numpy as np\n",
    "import os\n",
    "import ast\n",
    "import sys\n",
    "import pickle\n",
    "import warnings\n",
    "warnings.filterwarnings('ignore')\n",
    "\n",
    "\n"
   ]
  },
  {
   "cell_type": "markdown",
   "metadata": {},
   "source": [
    "This is a second level of imports, using packages built for this context"
   ]
  },
  {
   "cell_type": "code",
   "execution_count": null,
   "metadata": {
    "collapsed": true
   },
   "outputs": [],
   "source": [
    "additional_code_path = '/Users/briandalessandro/Documents/CrossBoundary/code/rf2019-crossboundary'\n",
    "\n",
    "sys.path.append(additional_code_path)\n",
    "from CbModelBuilder.CbModelBuilderUtils import non_model_features, evaluate_regression,evaluate_classification,cap_outlier,train_test_split,plot_confusion_matrix\n",
    "from CbModelBuilder.FeatureImportanceSummary import FeatureImportanceSummary\n",
    "from CbModelBuilder.ModelCVWrapper import ModelCVWrapper\n"
   ]
  },
  {
   "cell_type": "markdown",
   "metadata": {},
   "source": [
    "## Example Pipelines"
   ]
  },
  {
   "cell_type": "markdown",
   "metadata": {},
   "source": [
    "Set up file paths (these should be changed based on whatever local file system logic you have set up)"
   ]
  },
  {
   "cell_type": "code",
   "execution_count": null,
   "metadata": {
    "collapsed": true
   },
   "outputs": [],
   "source": [
    "data_dir_june = '/Users/briandalessandro/Documents/CrossBoundary/E4I-Datasets/June_2019_DataShare/'\n",
    "modeldir = '/Users/briandalessandro/Documents/CrossBoundary/models/'"
   ]
  },
  {
   "cell_type": "markdown",
   "metadata": {},
   "source": [
    "Read in data"
   ]
  },
  {
   "cell_type": "code",
   "execution_count": 19,
   "metadata": {
    "collapsed": true
   },
   "outputs": [],
   "source": [
    "model_df = pd.read_csv(data_dir_june + 'training_all_in.csv')\n",
    "model_df = cap_outlier(model_df, 'avg_consumption', 0.5)"
   ]
  },
  {
   "cell_type": "markdown",
   "metadata": {},
   "source": [
    "### Feature Selection and Ranking\n",
    "\n",
    "Get a ranked list of features by their feature importance. Use the convenience class created for this"
   ]
  },
  {
   "cell_type": "code",
   "execution_count": 20,
   "metadata": {
    "collapsed": true
   },
   "outputs": [],
   "source": [
    "fi = FeatureImportanceSummary(model_df, non_model_features, 'avg_consumption')\n",
    "fi.get_feature_importance_summary()"
   ]
  },
  {
   "cell_type": "markdown",
   "metadata": {},
   "source": [
    "Take a quick look at the top K features that contain 80% of the normalized information gain (the importance metric)"
   ]
  },
  {
   "cell_type": "code",
   "execution_count": 34,
   "metadata": {
    "collapsed": false
   },
   "outputs": [
    {
     "data": {
      "text/plain": [
       "array(['tariff', 'non_self_generated_electricity_monthly_consumption_kwh',\n",
       "       'energy', 'uses_of_non_self_generated_electricity_has_fan',\n",
       "       'years_in_community', 'hh_expenses', 'hh_size_between_5_18',\n",
       "       'cooking_tech', 'rent', 'age',\n",
       "       'non_self_generated_electricity_monthly_expenses', 'sleep_time',\n",
       "       'hours_of_use_on_days_used_of_lighting_items',\n",
       "       'fetching_time_minutes',\n",
       "       'hours_of_use_on_days_used_of_lighting_items_by_interviewee',\n",
       "       'rank_appliances_to_buy__3rd_choice', 'phone_charger_type_of_use',\n",
       "       'hh_income', 'achieved_important_things_i_want',\n",
       "       'non_self_generated_electricity_unit_price_per_kw'], dtype=object)"
      ]
     },
     "execution_count": 34,
     "metadata": {},
     "output_type": "execute_result"
    }
   ],
   "source": [
    "fi.feat_imp_df.loc[0:fi.feat_imp_index[0.8]].head(20)['x'].values"
   ]
  },
  {
   "cell_type": "markdown",
   "metadata": {},
   "source": [
    "Split the data for modeling, using the splitting function we created"
   ]
  },
  {
   "cell_type": "code",
   "execution_count": 22,
   "metadata": {
    "collapsed": true
   },
   "outputs": [],
   "source": [
    "train_df, test_df = train_test_split(model_df, 0.1)"
   ]
  },
  {
   "cell_type": "markdown",
   "metadata": {},
   "source": [
    "### Regression"
   ]
  },
  {
   "cell_type": "markdown",
   "metadata": {},
   "source": [
    "Get a best performing regression model using grid search and cross-validation (this can take some time)"
   ]
  },
  {
   "cell_type": "code",
   "execution_count": 23,
   "metadata": {
    "collapsed": false
   },
   "outputs": [
    {
     "name": "stdout",
     "output_type": "stream",
     "text": [
      "Running Treshold 0.8\n"
     ]
    }
   ],
   "source": [
    "from sklearn.ensemble import RandomForestRegressor\n",
    "\n",
    "reg_cv = ModelCVWrapper(5)\n",
    "\n",
    "rf_grid = {'n_estimators':[200,500], 'max_depth':[5,10], 'criterion':['mse']}\n",
    "grid_dict = {RandomForestRegressor():rf_grid}\n",
    "\n",
    "\n",
    "reg_cv.get_best_model(train_df, test_df, 'avg_consumption', fi, [0.8], grid_dict)"
   ]
  },
  {
   "cell_type": "markdown",
   "metadata": {},
   "source": [
    "Look at results from the test"
   ]
  },
  {
   "cell_type": "code",
   "execution_count": 24,
   "metadata": {
    "collapsed": false
   },
   "outputs": [
    {
     "data": {
      "text/html": [
       "<div>\n",
       "<style scoped>\n",
       "    .dataframe tbody tr th:only-of-type {\n",
       "        vertical-align: middle;\n",
       "    }\n",
       "\n",
       "    .dataframe tbody tr th {\n",
       "        vertical-align: top;\n",
       "    }\n",
       "\n",
       "    .dataframe thead th {\n",
       "        text-align: right;\n",
       "    }\n",
       "</style>\n",
       "<table border=\"1\" class=\"dataframe\">\n",
       "  <thead>\n",
       "    <tr style=\"text-align: right;\">\n",
       "      <th></th>\n",
       "      <th>algo_string</th>\n",
       "      <th>subset_index</th>\n",
       "      <th>cv_score</th>\n",
       "      <th>params</th>\n",
       "      <th>test_score</th>\n",
       "    </tr>\n",
       "  </thead>\n",
       "  <tbody>\n",
       "    <tr>\n",
       "      <th>0</th>\n",
       "      <td>RandomForestRegressor</td>\n",
       "      <td>29</td>\n",
       "      <td>-0.008713</td>\n",
       "      <td>{'criterion': 'mse', 'max_depth': 10, 'n_estim...</td>\n",
       "      <td>0.006506</td>\n",
       "    </tr>\n",
       "  </tbody>\n",
       "</table>\n",
       "</div>"
      ],
      "text/plain": [
       "             algo_string  subset_index  cv_score  \\\n",
       "0  RandomForestRegressor            29 -0.008713   \n",
       "\n",
       "                                              params  test_score  \n",
       "0  {'criterion': 'mse', 'max_depth': 10, 'n_estim...    0.006506  "
      ]
     },
     "execution_count": 24,
     "metadata": {},
     "output_type": "execute_result"
    }
   ],
   "source": [
    "reg_cv.cv_summary_df"
   ]
  },
  {
   "cell_type": "markdown",
   "metadata": {},
   "source": [
    "Do an evaluation summary of the best performing model"
   ]
  },
  {
   "cell_type": "code",
   "execution_count": 25,
   "metadata": {
    "collapsed": false
   },
   "outputs": [
    {
     "name": "stdout",
     "output_type": "stream",
     "text": [
      "MAE 0.05241449059195152\n",
      "MSE 0.006331462308712751\n",
      "R2 0.4572775800306279\n",
      "Average Error:  0.052414490591951496 kwh\n"
     ]
    }
   ],
   "source": [
    "preds = reg_cv.best_model.predict(test_df[reg_cv.best_subset])\n",
    "\n",
    "evaluate_regression(preds, test_df['avg_consumption'])"
   ]
  },
  {
   "cell_type": "markdown",
   "metadata": {},
   "source": [
    "Save the regression model for other uses"
   ]
  },
  {
   "cell_type": "code",
   "execution_count": 26,
   "metadata": {
    "collapsed": true
   },
   "outputs": [],
   "source": [
    "modelfile = modeldir + 'random_forest_regression.pickle'\n",
    "with open(modelfile, 'wb') as w:\n",
    "    pickle.dump(reg_cv, w)"
   ]
  },
  {
   "cell_type": "markdown",
   "metadata": {},
   "source": [
    "### Classification"
   ]
  },
  {
   "cell_type": "markdown",
   "metadata": {},
   "source": [
    "Define this as a classification problem and get a best performing classification model using grid search and cross-validation (this can take some time)"
   ]
  },
  {
   "cell_type": "markdown",
   "metadata": {},
   "source": [
    "First create a binary label, targeting top 10 %"
   ]
  },
  {
   "cell_type": "code",
   "execution_count": 28,
   "metadata": {
    "collapsed": true
   },
   "outputs": [],
   "source": [
    "Y_r = 'avg_consumption'\n",
    "Y_c = 'Y_cat'\n",
    "\n",
    "label_cut = np.percentile(train_df[Y_r], 90)\n",
    "\n",
    "\n",
    "train_df[Y_c] = 1*(train_df[Y_r] > label_cut)\n",
    "test_df[Y_c] = 1*(test_df[Y_r] > label_cut)"
   ]
  },
  {
   "cell_type": "markdown",
   "metadata": {},
   "source": [
    "Train the classifier using the wrapper class we created"
   ]
  },
  {
   "cell_type": "code",
   "execution_count": 29,
   "metadata": {
    "collapsed": false
   },
   "outputs": [
    {
     "name": "stdout",
     "output_type": "stream",
     "text": [
      "Running Treshold 0.8\n",
      "Running Treshold 0.9\n"
     ]
    }
   ],
   "source": [
    "from sklearn.ensemble import RandomForestClassifier\n",
    "\n",
    "class_cv = ModelCVWrapper(5)\n",
    "\n",
    "rfc_grid = {'n_estimators':[100,200], 'max_depth':[5,10], 'criterion':['entropy']}\n",
    "grid_dict = {RandomForestClassifier():rfc_grid}\n",
    "\n",
    "\n",
    "class_cv.get_best_model(train_df, test_df, Y_c, fi, [0.8,0.9], grid_dict)"
   ]
  },
  {
   "cell_type": "markdown",
   "metadata": {},
   "source": [
    "Evaluate the classifier"
   ]
  },
  {
   "cell_type": "code",
   "execution_count": 30,
   "metadata": {
    "collapsed": false
   },
   "outputs": [
    {
     "name": "stdout",
     "output_type": "stream",
     "text": [
      "AUC 0.9034468438538206\n",
      "Accuracy 0.06451612903225812\n",
      "Precision 0.625\n",
      "Recall:  0.35714285714285715\n"
     ]
    }
   ],
   "source": [
    "preds_prob = class_cv.best_model.predict_proba(test_df[class_cv.best_subset])[:,1]\n",
    "\n",
    "evaluate_classification(preds_prob, test_df[Y_c])"
   ]
  },
  {
   "cell_type": "code",
   "execution_count": null,
   "metadata": {
    "collapsed": true
   },
   "outputs": [],
   "source": [
    "# Plot normalized confusion matrix\n",
    "y_pred = class_cv.best_model.predict(test_df[class_cv.best_subset])\n",
    "\n",
    "plot_confusion_matrix(test_df[Y_c], y_pred, classes=['low','hi'], normalize=True,\n",
    "                      title='Normalized confusion matrix')"
   ]
  },
  {
   "cell_type": "code",
   "execution_count": 31,
   "metadata": {
    "collapsed": true
   },
   "outputs": [],
   "source": [
    "modelfile = modeldir + 'random_forest_classifier.pickle'\n",
    "with open(modelfile, 'wb') as w:\n",
    "    pickle.dump(class_cv, w)"
   ]
  },
  {
   "cell_type": "code",
   "execution_count": null,
   "metadata": {
    "collapsed": true
   },
   "outputs": [],
   "source": []
  }
 ],
 "metadata": {
  "anaconda-cloud": {},
  "kernelspec": {
   "display_name": "Python [py35]",
   "language": "python",
   "name": "Python [py35]"
  },
  "language_info": {
   "codemirror_mode": {
    "name": "ipython",
    "version": 3
   },
   "file_extension": ".py",
   "mimetype": "text/x-python",
   "name": "python",
   "nbconvert_exporter": "python",
   "pygments_lexer": "ipython3",
   "version": "3.5.2"
  }
 },
 "nbformat": 4,
 "nbformat_minor": 2
}
