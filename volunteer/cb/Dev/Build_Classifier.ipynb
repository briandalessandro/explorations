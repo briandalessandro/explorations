{
 "cells": [
  {
   "cell_type": "code",
   "execution_count": 87,
   "metadata": {
    "collapsed": true
   },
   "outputs": [],
   "source": [
    "import pandas as pd\n",
    "import numpy as np\n",
    "import os\n",
    "import matplotlib.pyplot as plt\n",
    "from sklearn.ensemble import RandomForestClassifier\n",
    "\n",
    "from sklearn.ensemble import GradientBoostingClassifier\n",
    "\n",
    "%matplotlib inline\n",
    "\n",
    "import warnings\n",
    "warnings.filterwarnings('ignore')"
   ]
  },
  {
   "cell_type": "code",
   "execution_count": 65,
   "metadata": {
    "collapsed": true
   },
   "outputs": [],
   "source": [
    "'''\n",
    "This is pre-groomed data from the Prep_Model_Data notebook\n",
    "'''\n",
    "\n",
    "data_dir_june = '/Users/briandalessandro/Documents/CrossBoundary/E4I-Datasets/June_2019_DataShare/'\n",
    "model_df = pd.read_csv(data_dir_june + 'processed/training_all_in.csv')"
   ]
  },
  {
   "cell_type": "code",
   "execution_count": 66,
   "metadata": {
    "collapsed": false
   },
   "outputs": [
    {
     "data": {
      "image/png": "[encoded data removed]",
      "text/plain": [
       "<Figure size 432x288 with 1 Axes>"
      ]
     },
     "metadata": {
      "needs_background": "light"
     },
     "output_type": "display_data"
    }
   ],
   "source": [
    "#Clean outliers in the target column\n",
    "Y = 'avg_consumption'\n",
    "max_thresh=1\n",
    "\n",
    "filt = (model_df[Y]>0) & (model_df[Y]<0.2)\n",
    "\n",
    "model_df.loc[model_df[Y]>max_thresh, Y] = max_thresh\n",
    "\n",
    "h = plt.hist(model_df[Y][filt], cumulative=True, density=True, bins=100, histtype='step')"
   ]
  },
  {
   "cell_type": "code",
   "execution_count": 67,
   "metadata": {
    "collapsed": false
   },
   "outputs": [
    {
     "data": {
      "text/plain": [
       "1    763\n",
       "2    577\n",
       "3    486\n",
       "Name: Y_cat, dtype: int64"
      ]
     },
     "execution_count": 67,
     "metadata": {},
     "output_type": "execute_result"
    }
   ],
   "source": [
    "'''\n",
    "Segments:\n",
    "- Y == 0\n",
    "- Y in (0,0.03] - low\n",
    "- Y in (0.03, 0.1] - Med\n",
    "- Y in (0.1, 1]\n",
    "'''\n",
    "\n",
    "np.percentile(model_df[Y][filt].values, [25,50,75])\n",
    "\n",
    "model_df['Y_cat'] = pd.cut(model_df[Y].values, [0,0.03,0.1,10], right=True, labels = [1,2,3])\n",
    "\n",
    "model_df = model_df[(model_df['Y_cat'].notnull())]\n",
    "model_df.Y_cat.value_counts()\n",
    "#(1-model_df['Y_cat'].isna())"
   ]
  },
  {
   "cell_type": "code",
   "execution_count": 31,
   "metadata": {
    "collapsed": true
   },
   "outputs": [],
   "source": [
    "top_features = ['tariff', 'non_self_generated_electricity_monthly_consumption_kwh',\n",
    "       'energy', 'years_in_community',\n",
    "       'uses_of_non_self_generated_electricity_has_fan',\n",
    "       'non_self_generated_electricity_monthly_expenses', 'educ_years',\n",
    "       'achieved_important_things_i_want', 'phone_charger_type_of_use',\n",
    "       'phone', 'hh_size_between_5_18', '3rd_largest_share_of_spending',\n",
    "       'sleep_time', 'non_self_generated_electricity_unit_price_per_kw',\n",
    "       'hh_expenses', 'rent']"
   ]
  },
  {
   "cell_type": "code",
   "execution_count": 68,
   "metadata": {
    "collapsed": true
   },
   "outputs": [],
   "source": [
    "from sklearn.model_selection import KFold\n",
    "from sklearn.model_selection import GridSearchCV\n",
    "\n",
    "Y = 'Y_cat'\n",
    "\n",
    "#Shuffle rows\n",
    "model_df_shuf = model_df.sample(frac=1, random_state=1).reset_index(drop=True)\n",
    "\n",
    "#Data is shuffled so we can just take bottom 10% for test set\n",
    "test_pct = 0.1\n",
    "test_index = int(model_df_shuf.shape[0]) * test_pct\n",
    "test_df = model_df_shuf.loc[:test_index]\n",
    "train_df = model_df_shuf.loc[test_index:]\n"
   ]
  },
  {
   "cell_type": "code",
   "execution_count": 95,
   "metadata": {
    "collapsed": false
   },
   "outputs": [
    {
     "data": {
      "text/plain": [
       "GridSearchCV(cv=KFold(n_splits=8, random_state=10, shuffle=False),\n",
       "       error_score='raise',\n",
       "       estimator=GradientBoostingClassifier(criterion='friedman_mse', init=None,\n",
       "              learning_rate=0.1, loss='deviance', max_depth=3,\n",
       "              max_features=None, max_leaf_nodes=None,\n",
       "              min_impurity_decrease=0.0, min_impurity_split=None,\n",
       "              min_samples_leaf=1, min_samples_split=2,\n",
       "              min_weight_fraction_leaf=0.0, n_estimators=100,\n",
       "              presort='auto', random_state=None, subsample=1.0, verbose=0,\n",
       "              warm_start=False),\n",
       "       fit_params=None, iid=True, n_jobs=1,\n",
       "       param_grid={'n_estimators': [50, 100, 200], 'max_depth': [3, 5, 7], 'learning_rate': [0.05, 0.1]},\n",
       "       pre_dispatch='2*n_jobs', refit=True, return_train_score='warn',\n",
       "       scoring='neg_log_loss', verbose=0)"
      ]
     },
     "execution_count": 95,
     "metadata": {},
     "output_type": "execute_result"
    }
   ],
   "source": [
    "rf_grid = {'n_estimators':[100,200,500], 'max_depth':[5, 10]}\n",
    "gbdt_grid = {'n_estimators':[50,100,200],'max_depth':[3,5,7],'learning_rate':[0.05,0.1]}\n",
    "\n",
    "\n",
    "kf = KFold(n_splits=8, random_state=10, shuffle=False)\n",
    "\n",
    "cf_rf = GridSearchCV(RandomForestClassifier(), rf_grid, cv=kf, scoring='neg_log_loss')\n",
    "cf_rf.fit(train_df[top_features], train_df[Y])\n",
    "\n",
    "cf_gb = GridSearchCV(GradientBoostingClassifier(), gbdt_grid, cv=kf, scoring='neg_log_loss')\n",
    "cf_gb.fit(train_df[top_features], train_df[Y])\n",
    "\n"
   ]
  },
  {
   "cell_type": "code",
   "execution_count": 97,
   "metadata": {
    "collapsed": false
   },
   "outputs": [
    {
     "data": {
      "text/plain": [
       "(array([-0.94, -0.93, -0.93, -0.91, -0.91, -0.91]),\n",
       " array([-0.91, -0.9 , -0.92, -0.91, -0.92, -0.96, -0.94, -0.96, -1.03,\n",
       "        -0.91, -0.92, -0.95, -0.93, -0.96, -1.06, -0.97, -1.04, -1.24]))"
      ]
     },
     "execution_count": 97,
     "metadata": {},
     "output_type": "execute_result"
    }
   ],
   "source": [
    "cf_rf.cv_results_['mean_test_score'], cf_gb.cv_results_['mean_test_score']\n",
    "\n",
    "#cf_gb.__dict__"
   ]
  },
  {
   "cell_type": "code",
   "execution_count": 71,
   "metadata": {
    "collapsed": false
   },
   "outputs": [
    {
     "data": {
      "text/plain": [
       "array([[48, 28, 11],\n",
       "       [15, 19, 12],\n",
       "       [ 4, 11, 35]])"
      ]
     },
     "execution_count": 71,
     "metadata": {},
     "output_type": "execute_result"
    }
   ],
   "source": [
    "from sklearn.metrics import confusion_matrix\n",
    "\n",
    "confusion_matrix(cf_rf.best_estimator_.predict(test_df[top_features]), test_df[Y])"
   ]
  },
  {
   "cell_type": "code",
   "execution_count": 76,
   "metadata": {
    "collapsed": true
   },
   "outputs": [],
   "source": [
    "from sklearn.utils.multiclass import unique_labels\n",
    "\n",
    "def plot_confusion_matrix(y_true, y_pred, classes,\n",
    "                          normalize=False,\n",
    "                          title=None,\n",
    "                          cmap=plt.cm.Blues):\n",
    "    \"\"\"\n",
    "    This function prints and plots the confusion matrix.\n",
    "    Normalization can be applied by setting `normalize=True`.\n",
    "    \"\"\"\n",
    "    if not title:\n",
    "        if normalize:\n",
    "            title = 'Normalized confusion matrix'\n",
    "        else:\n",
    "            title = 'Confusion matrix, without normalization'\n",
    "\n",
    "    # Compute confusion matrix\n",
    "    cm = confusion_matrix(y_true, y_pred)\n",
    "    # Only use the labels that appear in the data\n",
    "    #classes = classes[unique_labels(y_true, y_pred)]\n",
    "    if normalize:\n",
    "        cm = cm.astype('float') / cm.sum(axis=1)[:, np.newaxis]\n",
    "        print(\"Normalized confusion matrix\")\n",
    "    else:\n",
    "        print('Confusion matrix, without normalization')\n",
    "\n",
    "    print(cm)\n",
    "\n",
    "    fig, ax = plt.subplots()\n",
    "    im = ax.imshow(cm, interpolation='nearest', cmap=cmap)\n",
    "    ax.figure.colorbar(im, ax=ax)\n",
    "    # We want to show all ticks...\n",
    "    ax.set(xticks=np.arange(cm.shape[1]),\n",
    "           yticks=np.arange(cm.shape[0]),\n",
    "           # ... and label them with the respective list entries\n",
    "           xticklabels=classes, yticklabels=classes,\n",
    "           title=title,\n",
    "           ylabel='True label',\n",
    "           xlabel='Predicted label')\n",
    "\n",
    "    # Rotate the tick labels and set their alignment.\n",
    "    plt.setp(ax.get_xticklabels(), rotation=45, ha=\"right\",\n",
    "             rotation_mode=\"anchor\")\n",
    "\n",
    "    # Loop over data dimensions and create text annotations.\n",
    "    fmt = '.2f' if normalize else 'd'\n",
    "    thresh = cm.max() / 2.\n",
    "    for i in range(cm.shape[0]):\n",
    "        for j in range(cm.shape[1]):\n",
    "            ax.text(j, i, format(cm[i, j], fmt),\n",
    "                    ha=\"center\", va=\"center\",\n",
    "                    color=\"white\" if cm[i, j] > thresh else \"black\")\n",
    "    fig.tight_layout()\n",
    "    return ax\n",
    "\n",
    "\n",
    "np.set_printoptions(precision=2)\n",
    "\n",
    "\n"
   ]
  },
  {
   "cell_type": "code",
   "execution_count": 98,
   "metadata": {
    "collapsed": false
   },
   "outputs": [
    {
     "name": "stdout",
     "output_type": "stream",
     "text": [
      "Confusion matrix, without normalization\n",
      "[[48 15  4]\n",
      " [29 18 11]\n",
      " [11 12 35]]\n",
      "Normalized confusion matrix\n",
      "[[0.72 0.22 0.06]\n",
      " [0.5  0.31 0.19]\n",
      " [0.19 0.21 0.6 ]]\n"
     ]
    },
    {
     "data": {
      "image/png": "[encoded data removed]",
      "text/plain": [
       "<Figure size 432x288 with 2 Axes>"
      ]
     },
     "metadata": {
      "needs_background": "light"
     },
     "output_type": "display_data"
    },
    {
     "data": {
      "image/png": "[encoded data removed]",
      "text/plain": [
       "<Figure size 432x288 with 2 Axes>"
      ]
     },
     "metadata": {
      "needs_background": "light"
     },
     "output_type": "display_data"
    }
   ],
   "source": [
    "y_pred = cf_rf.best_estimator_.predict(test_df[top_features])\n",
    "\n",
    "class_names = ['low','med','high']\n",
    "y_test = test_df[Y]\n",
    "\n",
    "# Plot non-normalized confusion matrix\n",
    "plot_confusion_matrix(test_df[Y], y_pred, classes=class_names,\n",
    "                      title='Confusion matrix, without normalization')\n",
    "\n",
    "# Plot normalized confusion matrix\n",
    "plot_confusion_matrix(y_test, y_pred, classes=class_names, normalize=True,\n",
    "                      title='Normalized confusion matrix')\n",
    "\n",
    "plt.show()"
   ]
  },
  {
   "cell_type": "code",
   "execution_count": 99,
   "metadata": {
    "collapsed": false
   },
   "outputs": [
    {
     "data": {
      "text/html": [
       "<div>\n",
       "<style scoped>\n",
       "    .dataframe tbody tr th:only-of-type {\n",
       "        vertical-align: middle;\n",
       "    }\n",
       "\n",
       "    .dataframe tbody tr th {\n",
       "        vertical-align: top;\n",
       "    }\n",
       "\n",
       "    .dataframe thead tr th {\n",
       "        text-align: left;\n",
       "    }\n",
       "\n",
       "    .dataframe thead tr:last-of-type th {\n",
       "        text-align: right;\n",
       "    }\n",
       "</style>\n",
       "<table border=\"1\" class=\"dataframe\">\n",
       "  <thead>\n",
       "    <tr>\n",
       "      <th></th>\n",
       "      <th></th>\n",
       "      <th colspan=\"3\" halign=\"left\">targ</th>\n",
       "    </tr>\n",
       "    <tr>\n",
       "      <th></th>\n",
       "      <th></th>\n",
       "      <th>amin</th>\n",
       "      <th>amax</th>\n",
       "      <th>mean</th>\n",
       "    </tr>\n",
       "    <tr>\n",
       "      <th>true</th>\n",
       "      <th>pred</th>\n",
       "      <th></th>\n",
       "      <th></th>\n",
       "      <th></th>\n",
       "    </tr>\n",
       "  </thead>\n",
       "  <tbody>\n",
       "    <tr>\n",
       "      <th rowspan=\"3\" valign=\"top\">1</th>\n",
       "      <th>1</th>\n",
       "      <td>0.000136</td>\n",
       "      <td>0.029389</td>\n",
       "      <td>0.015569</td>\n",
       "    </tr>\n",
       "    <tr>\n",
       "      <th>2</th>\n",
       "      <td>0.000091</td>\n",
       "      <td>0.028973</td>\n",
       "      <td>0.015731</td>\n",
       "    </tr>\n",
       "    <tr>\n",
       "      <th>3</th>\n",
       "      <td>0.011982</td>\n",
       "      <td>0.022683</td>\n",
       "      <td>0.019327</td>\n",
       "    </tr>\n",
       "    <tr>\n",
       "      <th rowspan=\"3\" valign=\"top\">2</th>\n",
       "      <th>1</th>\n",
       "      <td>0.031102</td>\n",
       "      <td>0.081756</td>\n",
       "      <td>0.051862</td>\n",
       "    </tr>\n",
       "    <tr>\n",
       "      <th>2</th>\n",
       "      <td>0.032916</td>\n",
       "      <td>0.097366</td>\n",
       "      <td>0.057681</td>\n",
       "    </tr>\n",
       "    <tr>\n",
       "      <th>3</th>\n",
       "      <td>0.030680</td>\n",
       "      <td>0.085899</td>\n",
       "      <td>0.054904</td>\n",
       "    </tr>\n",
       "    <tr>\n",
       "      <th rowspan=\"3\" valign=\"top\">3</th>\n",
       "      <th>1</th>\n",
       "      <td>0.102091</td>\n",
       "      <td>0.471874</td>\n",
       "      <td>0.256538</td>\n",
       "    </tr>\n",
       "    <tr>\n",
       "      <th>2</th>\n",
       "      <td>0.104862</td>\n",
       "      <td>0.252342</td>\n",
       "      <td>0.163926</td>\n",
       "    </tr>\n",
       "    <tr>\n",
       "      <th>3</th>\n",
       "      <td>0.108656</td>\n",
       "      <td>1.000000</td>\n",
       "      <td>0.297506</td>\n",
       "    </tr>\n",
       "  </tbody>\n",
       "</table>\n",
       "</div>"
      ],
      "text/plain": [
       "               targ                    \n",
       "               amin      amax      mean\n",
       "true pred                              \n",
       "1    1     0.000136  0.029389  0.015569\n",
       "     2     0.000091  0.028973  0.015731\n",
       "     3     0.011982  0.022683  0.019327\n",
       "2    1     0.031102  0.081756  0.051862\n",
       "     2     0.032916  0.097366  0.057681\n",
       "     3     0.030680  0.085899  0.054904\n",
       "3    1     0.102091  0.471874  0.256538\n",
       "     2     0.104862  0.252342  0.163926\n",
       "     3     0.108656  1.000000  0.297506"
      ]
     },
     "execution_count": 99,
     "metadata": {},
     "output_type": "execute_result"
    }
   ],
   "source": [
    "p_df = pd.DataFrame({'true':test_df[Y], 'pred':y_pred, 'targ':test_df['avg_consumption']})\n",
    "\n",
    "p_df.groupby(['true','pred']).agg([np.min, np.max, np.mean])"
   ]
  },
  {
   "cell_type": "markdown",
   "metadata": {},
   "source": [
    "## Find best hi/lo split"
   ]
  },
  {
   "cell_type": "code",
   "execution_count": 102,
   "metadata": {
    "collapsed": true
   },
   "outputs": [],
   "source": [
    "from sklearn.metrics import roc_auc_score"
   ]
  },
  {
   "cell_type": "code",
   "execution_count": 110,
   "metadata": {
    "collapsed": false
   },
   "outputs": [
    {
     "name": "stdout",
     "output_type": "stream",
     "text": [
      "0.01 : 0.8721850273889227 : 0.6439393939393939\n",
      "0.02 : 0.696895922093731 : 0.7197552447552448\n",
      "0.03 : 0.5763846622032867 : 0.7583633556356151\n",
      "0.04 : 0.47900182592818014 : 0.748729121278141\n",
      "0.05 : 0.418746195982958 : 0.7481459330143541\n",
      "0.06 : 0.37918441874619596 : 0.7645447906523857\n",
      "0.07 : 0.3457090687766281 : 0.7874680306905371\n",
      "0.08 : 0.31527693244065735 : 0.7936507936507936\n",
      "0.09 : 0.2903225806451613 : 0.7888211382113822\n",
      "0.1 : 0.2604990870359099 : 0.8024827586206896\n",
      "0.15 : 0.18076688983566647 : 0.7412191827085445\n",
      "0.2 : 0.1278149726110773 : 0.7867218987908643\n",
      "0.3 : 0.0736457699330493 : 0.8705387205387206\n",
      "0.4 : 0.049300060864272674 : 0.7991329479768786\n",
      "0.5 : 0.03530127814972611 : 0.8235955056179775\n"
     ]
    }
   ],
   "source": [
    "cuts = [0.01,0.02,0.03,0.04,0.05,0.06,0.07,0.08,0.09,0.1,0.15,0.2,0.3, 0.4, 0.5]\n",
    "\n",
    "for c in cuts:\n",
    "    y_train = 1*(train_df.avg_consumption > c)\n",
    "    y_test = 1*(test_df.avg_consumption > c)\n",
    "    rf = RandomForestClassifier(n_estimators=200, max_depth=10)\n",
    "    rf.fit(train_df[top_features], y_train)\n",
    "    auc = roc_auc_score(y_test, rf.predict_proba(test_df[top_features])[:,1])\n",
    "    print('{} : {} : {}'.format(c, y_train.mean(), auc))\n",
    "    "
   ]
  },
  {
   "cell_type": "code",
   "execution_count": 109,
   "metadata": {
    "collapsed": false
   },
   "outputs": [
    {
     "data": {
      "text/plain": [
       "0.0736457699330493"
      ]
     },
     "execution_count": 109,
     "metadata": {},
     "output_type": "execute_result"
    }
   ],
   "source": [
    "y_train.mean()"
   ]
  },
  {
   "cell_type": "code",
   "execution_count": null,
   "metadata": {
    "collapsed": true
   },
   "outputs": [],
   "source": []
  }
 ],
 "metadata": {
  "kernelspec": {
   "display_name": "Python [py35]",
   "language": "python",
   "name": "Python [py35]"
  },
  "language_info": {
   "codemirror_mode": {
    "name": "ipython",
    "version": 3
   },
   "file_extension": ".py",
   "mimetype": "text/x-python",
   "name": "python",
   "nbconvert_exporter": "python",
   "pygments_lexer": "ipython3",
   "version": "3.5.2"
  }
 },
 "nbformat": 4,
 "nbformat_minor": 2
}
